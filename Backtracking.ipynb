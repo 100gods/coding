{
 "cells": [
  {
   "cell_type": "markdown",
   "metadata": {},
   "source": [
    "# print all permutations of a given string"
   ]
  },
  {
   "cell_type": "code",
   "execution_count": 32,
   "metadata": {},
   "outputs": [],
   "source": [
    "def permut(a, start, end ):\n",
    "    if start == end-1:\n",
    "        print(''.join(a))\n",
    "    for i in range(start,end):\n",
    "        a[start],a[i] = a[i], a[start]\n",
    "        permut(a, start+1,end)\n",
    "        a[i],a[start] = a[start],a[i]"
   ]
  },
  {
   "cell_type": "code",
   "execution_count": null,
   "metadata": {},
   "outputs": [],
   "source": [
    "permut(list(\"ABC\"),0,3)"
   ]
  },
  {
   "cell_type": "markdown",
   "metadata": {},
   "source": [
    "# The Knight’s tour problem"
   ]
  },
  {
   "cell_type": "code",
   "execution_count": 69,
   "metadata": {},
   "outputs": [],
   "source": [
    "def safeMove(board,x,y,n):\n",
    "    if x < n and y < n and x >0 and y >0 and board[x][y] == -1:\n",
    "        return True\n",
    "    return False"
   ]
  },
  {
   "cell_type": "code",
   "execution_count": 70,
   "metadata": {},
   "outputs": [],
   "source": [
    "def print_board(board,n):\n",
    "    print(\"_________________________\")\n",
    "    for i in range(n):\n",
    "        for j in range(n):\n",
    "            print(board[i][j],end =' ')\n",
    "        print(\" \")\n",
    "        "
   ]
  },
  {
   "cell_type": "code",
   "execution_count": 71,
   "metadata": {},
   "outputs": [],
   "source": [
    "def solve_kt_util(board,x,y,pos,n,move_x,move_y):\n",
    "    if(pos == n**2):\n",
    "        return True\n",
    "    #check all 8 moves for solution \n",
    "    for i in range(8):\n",
    "        x_new=x+move_x[i]\n",
    "        y_new=y+move_y[i]\n",
    "        if not safeMove(board,x_new,y_new,n):\n",
    "            continue\n",
    "        board[x_new][y_new] = pos\n",
    "        if(solve_kt_util(board,x_new,y_new,pos+1,n,move_x,move_y)):\n",
    "            return True\n",
    "        else:\n",
    "            #backtrack \n",
    "            board[x_new][y_new]=-1\n",
    "    return False\n",
    "    "
   ]
  },
  {
   "cell_type": "code",
   "execution_count": 72,
   "metadata": {},
   "outputs": [],
   "source": [
    "def solveKT():\n",
    "    n=8\n",
    "    board =[ [-1 for i in range(n)] for i in range(n)]\n",
    "    move_x = [2, 1, -1, -2, -2, -1, 1, 2] \n",
    "    move_y = [1, 2, 2, 1, -1, -2, -2, -1]\n",
    "    \n",
    "    # start at 0,0\n",
    "    board[0][0] = 0\n",
    "    #mark as pos = 0 \n",
    "    pos=1\n",
    "    \n",
    "    if solve_kt_util(board,0,0,pos,n,move_x,move_y):\n",
    "        print_board(board)\n",
    "    else:\n",
    "        print(\"Nah ho pai\")\n",
    "        \n",
    "    "
   ]
  },
  {
   "cell_type": "code",
   "execution_count": null,
   "metadata": {
    "scrolled": false
   },
   "outputs": [],
   "source": [
    "solveKT()"
   ]
  },
  {
   "cell_type": "markdown",
   "metadata": {},
   "source": [
    "### Rat in a Maze"
   ]
  },
  {
   "cell_type": "code",
   "execution_count": 61,
   "metadata": {},
   "outputs": [],
   "source": [
    "def safeMove(maze,x,y,n):\n",
    "    if x < n and y < n and x >=0 and y >=0 and maze[x][y] == 1:\n",
    "        return True\n",
    "    return False"
   ]
  },
  {
   "cell_type": "code",
   "execution_count": 62,
   "metadata": {},
   "outputs": [],
   "source": [
    "def print_board(board,n):\n",
    "    print(\"_________________________\")\n",
    "    for i in range(n):\n",
    "        for j in range(n):\n",
    "            print(board[i][j],end =' ')\n",
    "        print(\" \")"
   ]
  },
  {
   "cell_type": "code",
   "execution_count": 63,
   "metadata": {},
   "outputs": [],
   "source": [
    "def solve_maze_util(maze,x,y,move_x,move_y,n,res):\n",
    "    if x == n-1 and y == n-1:\n",
    "        return True\n",
    "    for i in range(2):\n",
    "        x_new=x+move_x[i]\n",
    "        y_new=y+move_y[i]\n",
    "        if not safeMove(maze,x_new,y_new,n):\n",
    "            continue\n",
    "        res[x_new][y_new] = 1\n",
    "        if solve_maze_util(maze,x_new,y_new,move_x,move_y,n,res):\n",
    "            return True\n",
    "        res[x_new][y_new] = 0\n",
    "    return False"
   ]
  },
  {
   "cell_type": "code",
   "execution_count": 66,
   "metadata": {},
   "outputs": [],
   "source": [
    "def solve_maze(maze):\n",
    "    n=4\n",
    "    res=[[0 for i in range(n)] for i in range(n)]\n",
    "    move_x=[1,0]\n",
    "    move_y=[0,1]\n",
    "    res[0][0]=1\n",
    "    if solve_maze_util(maze,0,0,move_x,move_y,n,res):\n",
    "        print_board(res,n)\n",
    "    else:\n",
    "        print(res)\n",
    "        print(\"nah ho pai\")"
   ]
  },
  {
   "cell_type": "code",
   "execution_count": 68,
   "metadata": {},
   "outputs": [
    {
     "name": "stdout",
     "output_type": "stream",
     "text": [
      "_________________________\n",
      "1 0 0 0  \n",
      "1 1 0 0  \n",
      "0 1 0 0  \n",
      "0 1 1 1  \n"
     ]
    }
   ],
   "source": [
    "maze = [ [1, 0, 0, 0], \n",
    "             [1, 1, 0, 1], \n",
    "             [0, 1, 0, 0], \n",
    "             [1, 1, 1, 1] ] \n",
    "solve_maze(maze)"
   ]
  },
  {
   "cell_type": "markdown",
   "metadata": {},
   "source": [
    "# N Queen Problem "
   ]
  },
  {
   "cell_type": "code",
   "execution_count": 1,
   "metadata": {},
   "outputs": [],
   "source": [
    "def print_board(board,n):\n",
    "    print(\"_________________________\")\n",
    "    for i in range(n):\n",
    "        for j in range(n):\n",
    "            print(board[i][j],end =' ')\n",
    "        print(\" \")"
   ]
  },
  {
   "cell_type": "code",
   "execution_count": 12,
   "metadata": {},
   "outputs": [],
   "source": [
    "def safe_queen(board, row ,q, N ):\n",
    "    # qth queen is placed in qth - 1 col\n",
    "    #check if queen in there in other row left for qth\n",
    "    \n",
    "    for i in range(q):\n",
    "        if board[row][i] == 1:\n",
    "            return False\n",
    "    # Check upper diagonal on left side \n",
    "    for i, j in zip(range(row, -1, -1),  \n",
    "                    range(q, -1, -1)): \n",
    "        if board[i][j] == 1: \n",
    "            return False\n",
    "  \n",
    "    # Check lower diagonal on left side \n",
    "    for i, j in zip(range(row, N, 1),  \n",
    "                    range(q, -1, -1)): \n",
    "        if board[i][j] == 1: \n",
    "            return False\n",
    "  \n",
    "    return True\n",
    "        "
   ]
  },
  {
   "cell_type": "code",
   "execution_count": 17,
   "metadata": {},
   "outputs": [],
   "source": [
    "def solve_n_queen_util(board, n, q):\n",
    "    if q == n :\n",
    "        return True\n",
    "    # place next queen\n",
    "    for row in range(n):\n",
    "        #place queen on row \n",
    "        if safe_queen(board, row , q, n):\n",
    "            board[row][q] = 1\n",
    "            if solve_n_queen_util(board,n,q+1):\n",
    "                return True\n",
    "            board[row][q] = 0\n",
    "    return False"
   ]
  },
  {
   "cell_type": "code",
   "execution_count": 19,
   "metadata": {},
   "outputs": [
    {
     "name": "stdout",
     "output_type": "stream",
     "text": [
      "_________________________\n",
      "0 0 1 0  \n",
      "1 0 0 0  \n",
      "0 0 0 1  \n",
      "0 1 0 0  \n"
     ]
    }
   ],
   "source": [
    "board = [ [0, 0, 0, 0], \n",
    "          [0, 0, 0, 0], \n",
    "          [0, 0, 0, 0], \n",
    "          [0, 0, 0, 0] ] \n",
    "\n",
    "if solve_n_qeen_util(board, 4, 0) == False: \n",
    "    print (\"Solution does not exist\") \n",
    "\n",
    "print_board(board,4) "
   ]
  },
  {
   "cell_type": "code",
   "execution_count": null,
   "metadata": {},
   "outputs": [],
   "source": []
  }
 ],
 "metadata": {
  "kernelspec": {
   "display_name": "Python 3",
   "language": "python",
   "name": "python3"
  },
  "language_info": {
   "codemirror_mode": {
    "name": "ipython",
    "version": 3
   },
   "file_extension": ".py",
   "mimetype": "text/x-python",
   "name": "python",
   "nbconvert_exporter": "python",
   "pygments_lexer": "ipython3",
   "version": "3.6.4"
  }
 },
 "nbformat": 4,
 "nbformat_minor": 2
}
