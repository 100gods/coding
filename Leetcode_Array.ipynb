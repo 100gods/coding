{
 "cells": [
  {
   "cell_type": "markdown",
   "metadata": {},
   "source": [
    "## 905. Sort Array By Parity\n",
    "Given an array A of non-negative integers, return an array consisting of all the even elements of A, followed by all the odd elements of A.\n",
    "\n",
    "You may return any answer array that satisfies this condition.\n",
    "\n",
    " \n",
    "\n",
    "Example 1:\n",
    "\n",
    "Input: [3,1,2,4]\n",
    "Output: [2,4,3,1]\n",
    "The outputs [4,2,3,1], [2,4,1,3], and [4,2,1,3] would also be accepted."
   ]
  },
  {
   "cell_type": "code",
   "execution_count": 2,
   "metadata": {},
   "outputs": [],
   "source": [
    "def sortArrayByParity(A):\n",
    "    evn,odd=[],[]\n",
    "    for x in A:\n",
    "        evn.append(x) if x % 2 == 0 else odd.append(x)\n",
    "    return evn+odd"
   ]
  },
  {
   "cell_type": "code",
   "execution_count": 4,
   "metadata": {},
   "outputs": [],
   "source": [
    "def sortArrayByParity_new(A):\n",
    "    return sorted(A, key=lambda x:x%2)"
   ]
  },
  {
   "cell_type": "code",
   "execution_count": 6,
   "metadata": {},
   "outputs": [
    {
     "name": "stdout",
     "output_type": "stream",
     "text": [
      "[2, 4, 3, 1]\n",
      "[2, 4, 3, 1]\n"
     ]
    }
   ],
   "source": [
    "A=[3,1,2,4]\n",
    "print(sortArrayByParity(A))\n",
    "print(sortArrayByParity_new(A))"
   ]
  },
  {
   "cell_type": "markdown",
   "metadata": {},
   "source": [
    "## 977. Squares of a Sorted Array\n",
    "Given an array of integers A sorted in non-decreasing order, return an array of the squares of each number, also in sorted non-decreasing order.\n",
    "\n",
    " \n",
    "\n",
    "Example 1:\n",
    "\n",
    "Input: [-4,-1,0,3,10]\n",
    "Output: [0,1,9,16,100]\n",
    "\n",
    "Example 2:\n",
    "\n",
    "Input: [-7,-3,2,3,11]\n",
    "Output: [4,9,9,49,121]"
   ]
  },
  {
   "cell_type": "code",
   "execution_count": 7,
   "metadata": {},
   "outputs": [],
   "source": [
    "def sortedSquares(A):\n",
    "    return sorted([x*x for x in A])"
   ]
  },
  {
   "cell_type": "code",
   "execution_count": 9,
   "metadata": {},
   "outputs": [
    {
     "name": "stdout",
     "output_type": "stream",
     "text": [
      "[0, 1, 9, 16, 100]\n",
      "[4, 9, 9, 49, 121]\n"
     ]
    }
   ],
   "source": [
    "A=[-4,-1,0,3,10] \n",
    "print(sortedSquares(A))\n",
    "B=[-7,-3,2,3,11] \n",
    "print(sortedSquares(B))"
   ]
  },
  {
   "cell_type": "markdown",
   "metadata": {},
   "source": [
    "## 561. Array Partition I\n",
    "Given an array of 2n integers, your task is to group these integers into n pairs of integer, say (a1, b1), (a2, b2), ..., (an, bn) which makes sum of min(ai, bi) for all i from 1 to n as large as possible.\n",
    "\n",
    "Example 1:\n",
    "Input: [1,4,3,2]\n",
    "\n",
    "Output: 4\n",
    "Explanation: n is 2, and the maximum sum of pairs is 4 = min(1, 2) + min(3, 4)."
   ]
  },
  {
   "cell_type": "code",
   "execution_count": 14,
   "metadata": {},
   "outputs": [],
   "source": [
    "def arrayPairSum(nums):\n",
    "    a=sorted(nums)\n",
    "    print(a)\n",
    "    return sum(a[::2])\n",
    "    "
   ]
  },
  {
   "cell_type": "code",
   "execution_count": 16,
   "metadata": {},
   "outputs": [
    {
     "name": "stdout",
     "output_type": "stream",
     "text": [
      "[1, 2, 3, 4, 5, 6]\n",
      "9\n"
     ]
    }
   ],
   "source": [
    "nums=[1,4,3,2,5,6]\n",
    "print(arrayPairSum(nums))"
   ]
  },
  {
   "cell_type": "markdown",
   "metadata": {},
   "source": [
    "## 1051. Height Checker\n",
    "Students are asked to stand in non-decreasing order of heights for an annual photo.\n",
    "\n",
    "Return the minimum number of students that must move in order for all students to be standing in non-decreasing order of height.\n",
    "\n",
    " \n",
    "\n",
    "Example 1:\n",
    "\n",
    "Input: heights = [1,1,4,2,1,3]\n",
    "Output: 3"
   ]
  },
  {
   "cell_type": "markdown",
   "metadata": {},
   "source": [
    "1->[1]\n",
    "1-> [1]\n",
    "4-> pop(1) push(4)\n",
    "2-> count++\n",
    "1-> count++\n",
    "3-> count++"
   ]
  },
  {
   "cell_type": "code",
   "execution_count": 26,
   "metadata": {},
   "outputs": [],
   "source": [
    "def heightChecker(heights):\n",
    "    s_h,c=sorted(heights),0\n",
    "    for i in range(0,len(s_h)):\n",
    "        if s_h[i] != heights[i]:\n",
    "            c+=1\n",
    "    return c\n",
    "    "
   ]
  },
  {
   "cell_type": "code",
   "execution_count": 27,
   "metadata": {},
   "outputs": [
    {
     "name": "stdout",
     "output_type": "stream",
     "text": [
      "3\n",
      "4\n"
     ]
    }
   ],
   "source": [
    "a=[1,1,4,2,1,3]\n",
    "print(heightChecker(a))\n",
    "b=[1,2,1,2,1,1,1,2,1]\n",
    "print(heightChecker(b))"
   ]
  },
  {
   "cell_type": "code",
   "execution_count": 43,
   "metadata": {},
   "outputs": [
    {
     "name": "stdout",
     "output_type": "stream",
     "text": [
      "Counter({1: 6, 2: 3})\n",
      "0\n",
      "5\n",
      "4\n",
      "3\n",
      "2\n",
      "1\n",
      "0\n",
      "2\n",
      "1\n",
      "4\n"
     ]
    }
   ],
   "source": [
    "from collections import Counter\n",
    "heights=[1,2,1,2,1,1,1,2,1]\n",
    "counter = Counter(heights)\n",
    "i = 0\n",
    "print(counter)\n",
    "removals = 0\n",
    "for height in heights:\n",
    "    print(counter[i])\n",
    "    while counter[i] == 0:\n",
    "        i += 1\n",
    "\n",
    "    if i != height:bm\n",
    "        removals += 1\n",
    "\n",
    "    counter[i] -= 1\n",
    "print(removals)"
   ]
  },
  {
   "cell_type": "markdown",
   "metadata": {},
   "source": [
    "## 922. Sort Array By Parity II\n",
    "Given an array A of non-negative integers, half of the integers in A are odd, and half of the integers are even.\n",
    "\n",
    "Sort the array so that whenever A[i] is odd, i is odd; and whenever A[i] is even, i is even.\n",
    "\n",
    "You may return any answer array that satisfies this condition.\n",
    "\n",
    " \n",
    "\n",
    "Example 1:\n",
    "\n",
    "Input: [4,2,5,7]\n",
    "Output: [4,5,2,7]\n",
    "Explanation: [4,7,2,5], [2,5,4,7], [2,7,4,5] would also have been accepted."
   ]
  },
  {
   "cell_type": "code",
   "execution_count": 53,
   "metadata": {},
   "outputs": [],
   "source": [
    "def sortArrayByParityII(A):\n",
    "    res,e_i,o_i=[0] * len(A),0,1\n",
    "    for x in A:\n",
    "        if x % 2 == 0 :\n",
    "            res[e_i]=x\n",
    "            e_i+=2\n",
    "        else:\n",
    "            res[o_i]=x\n",
    "            o_i+=2\n",
    "    return res\n",
    "    "
   ]
  },
  {
   "cell_type": "markdown",
   "metadata": {},
   "source": [
    "[4,2,5,7]\n",
    "e_i=0\n",
    "o_i=1\n",
    "4 -> even, i == even , e_i+=2\n",
    "2-> even, i == odd , "
   ]
  },
  {
   "cell_type": "code",
   "execution_count": 54,
   "metadata": {},
   "outputs": [
    {
     "name": "stdout",
     "output_type": "stream",
     "text": [
      "[4, 5, 2, 7]\n",
      "[2, 1, 4, 3]\n"
     ]
    }
   ],
   "source": [
    "print(sortArrayByParityII([4,2,5,7] ))\n",
    "print(sortArrayByParityII([2,1,4,3]))"
   ]
  },
  {
   "cell_type": "markdown",
   "metadata": {},
   "source": [
    "## 1122. Relative Sort Array\n",
    "Given two arrays arr1 and arr2, the elements of arr2 are distinct, and all elements in arr2 are also in arr1.\n",
    "\n",
    "Sort the elements of arr1 such that the relative ordering of items in arr1 are the same as in arr2.  Elements that don't appear in arr2 should be placed at the end of arr1 in ascending order.\n",
    "\n",
    " \n",
    "\n",
    "Example 1:\n",
    "\n",
    "Input: arr1 = [2,3,1,3,2,4,6,7,9,2,19], arr2 = [2,1,4,3,9,6]\n",
    "Output: [2,2,2,1,4,3,3,9,6,7,19]"
   ]
  },
  {
   "cell_type": "code",
   "execution_count": 67,
   "metadata": {},
   "outputs": [],
   "source": [
    "arr1 = [2,3,1,3,2,4,6,7,9,2,19]\n",
    "c=Counter(arr1)"
   ]
  },
  {
   "cell_type": "code",
   "execution_count": 95,
   "metadata": {},
   "outputs": [],
   "source": [
    "from collections import Counter\n",
    "def relativeSortArray(arr1, arr2):\n",
    "    c=Counter(arr1)\n",
    "    res=[]\n",
    "    for x in arr2:\n",
    "        res+=[x]*c[x]\n",
    "        c.pop(x)\n",
    "    for x in sorted(c.keys()):\n",
    "        res+=[x]*c[x]\n",
    "    return res"
   ]
  },
  {
   "cell_type": "code",
   "execution_count": 96,
   "metadata": {},
   "outputs": [
    {
     "name": "stdout",
     "output_type": "stream",
     "text": [
      "[2, 2, 2, 1, 4, 3, 3, 9, 6, 7, 19]\n"
     ]
    }
   ],
   "source": [
    "print(relativeSortArray([2,3,1,3,2,4,6,7,9,2,19],[2,1,4,3,9,6]))"
   ]
  },
  {
   "cell_type": "markdown",
   "metadata": {},
   "source": [
    "## "
   ]
  },
  {
   "cell_type": "code",
   "execution_count": null,
   "metadata": {},
   "outputs": [],
   "source": []
  }
 ],
 "metadata": {
  "kernelspec": {
   "display_name": "Python 3",
   "language": "python",
   "name": "python3"
  },
  "language_info": {
   "codemirror_mode": {
    "name": "ipython",
    "version": 3
   },
   "file_extension": ".py",
   "mimetype": "text/x-python",
   "name": "python",
   "nbconvert_exporter": "python",
   "pygments_lexer": "ipython3",
   "version": "3.6.4"
  }
 },
 "nbformat": 4,
 "nbformat_minor": 2
}
