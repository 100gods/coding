{
 "cells": [
  {
   "cell_type": "markdown",
   "metadata": {},
   "source": [
    "## 905. Sort Array By Parity\n",
    "Given an array A of non-negative integers, return an array consisting of all the even elements of A, followed by all the odd elements of A.\n",
    "\n",
    "You may return any answer array that satisfies this condition.\n",
    "\n",
    " \n",
    "\n",
    "Example 1:\n",
    "\n",
    "Input: [3,1,2,4]\n",
    "Output: [2,4,3,1]\n",
    "The outputs [4,2,3,1], [2,4,1,3], and [4,2,1,3] would also be accepted."
   ]
  },
  {
   "cell_type": "code",
   "execution_count": 2,
   "metadata": {},
   "outputs": [],
   "source": [
    "def sortArrayByParity(A):\n",
    "    evn,odd=[],[]\n",
    "    for x in A:\n",
    "        evn.append(x) if x % 2 == 0 else odd.append(x)\n",
    "    return evn+odd"
   ]
  },
  {
   "cell_type": "code",
   "execution_count": 4,
   "metadata": {},
   "outputs": [],
   "source": [
    "def sortArrayByParity_new(A):\n",
    "    return sorted(A, key=lambda x:x%2)"
   ]
  },
  {
   "cell_type": "code",
   "execution_count": 6,
   "metadata": {},
   "outputs": [
    {
     "name": "stdout",
     "output_type": "stream",
     "text": [
      "[2, 4, 3, 1]\n",
      "[2, 4, 3, 1]\n"
     ]
    }
   ],
   "source": [
    "A=[3,1,2,4]\n",
    "print(sortArrayByParity(A))\n",
    "print(sortArrayByParity_new(A))"
   ]
  },
  {
   "cell_type": "markdown",
   "metadata": {},
   "source": [
    "## 977. Squares of a Sorted Array\n",
    "Given an array of integers A sorted in non-decreasing order, return an array of the squares of each number, also in sorted non-decreasing order.\n",
    "\n",
    " \n",
    "\n",
    "Example 1:\n",
    "\n",
    "Input: [-4,-1,0,3,10]\n",
    "Output: [0,1,9,16,100]\n",
    "\n",
    "Example 2:\n",
    "\n",
    "Input: [-7,-3,2,3,11]\n",
    "Output: [4,9,9,49,121]"
   ]
  },
  {
   "cell_type": "code",
   "execution_count": 7,
   "metadata": {},
   "outputs": [],
   "source": [
    "def sortedSquares(A):\n",
    "    return sorted([x*x for x in A])"
   ]
  },
  {
   "cell_type": "code",
   "execution_count": 9,
   "metadata": {},
   "outputs": [
    {
     "name": "stdout",
     "output_type": "stream",
     "text": [
      "[0, 1, 9, 16, 100]\n",
      "[4, 9, 9, 49, 121]\n"
     ]
    }
   ],
   "source": [
    "A=[-4,-1,0,3,10] \n",
    "print(sortedSquares(A))\n",
    "B=[-7,-3,2,3,11] \n",
    "print(sortedSquares(B))"
   ]
  },
  {
   "cell_type": "code",
   "execution_count": null,
   "metadata": {},
   "outputs": [],
   "source": []
  }
 ],
 "metadata": {
  "kernelspec": {
   "display_name": "Python 3",
   "language": "python",
   "name": "python3"
  },
  "language_info": {
   "codemirror_mode": {
    "name": "ipython",
    "version": 3
   },
   "file_extension": ".py",
   "mimetype": "text/x-python",
   "name": "python",
   "nbconvert_exporter": "python",
   "pygments_lexer": "ipython3",
   "version": "3.6.4"
  }
 },
 "nbformat": 4,
 "nbformat_minor": 2
}
